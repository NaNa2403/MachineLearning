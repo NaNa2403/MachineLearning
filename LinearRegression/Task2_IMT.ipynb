{
 "cells": [
  {
   "cell_type": "code",
   "execution_count": 2,
   "metadata": {},
   "outputs": [],
   "source": [
    "import numpy as np\n",
    "import pandas as pd\n",
    "from matplotlib import pyplot as plt\n",
    "from sklearn import linear_model"
   ]
  },
  {
   "cell_type": "markdown",
   "metadata": {},
   "source": [
    "## Read file"
   ]
  },
  {
   "cell_type": "code",
   "execution_count": 7,
   "metadata": {},
   "outputs": [
    {
     "name": "stdout",
     "output_type": "stream",
     "text": [
      "    TUOI   BMI     HA  GLUCOSE  CHOLESTEROL  BEDAYNTM\n",
      "0   56.0  21.0  160.0     14.0         6.00      1.95\n",
      "1   76.0  18.0  150.0     12.0         4.97      1.33\n",
      "2   63.0  16.0  160.0      4.4         6.39      0.83\n",
      "3   78.0  20.0  100.0      4.0         7.00      2.00\n",
      "4   87.0  20.0  110.0      4.6         4.10      1.30\n",
      "..   ...   ...    ...      ...          ...       ...\n",
      "95  55.0  24.0  160.0      5.0         7.20      0.90\n",
      "96  76.0  15.0  140.0      3.1         5.24      1.16\n",
      "97  70.0  25.0  180.0      4.0         4.40      1.00\n",
      "98  85.0  21.0  160.0      5.2         5.20      0.97\n",
      "99  87.0  22.0  130.0      9.0         5.20      2.30\n",
      "\n",
      "[100 rows x 6 columns]\n"
     ]
    }
   ],
   "source": [
    "with open(\"vidu3_lin_reg.txt\", \"r\") as f:\n",
    "    column_names = f.readline().replace(\"\\n\",\"\").split(\" \")\n",
    "    lines = f.readlines()\n",
    "    lines = [line.replace(\"\\n\",\"\") for line in lines]\n",
    "\n",
    "data = []\n",
    "column_names.pop(0)\n",
    "\n",
    "for line in lines:\n",
    "    temp = line.split(\" \")\n",
    "    temp.pop(0)\n",
    "    temp = list(map(float, temp))\n",
    "\n",
    "    data.append(temp)\n",
    "\n",
    "df = pd.DataFrame(data, columns=column_names)\n",
    "df.shape\n",
    "print(df)\n",
    "\n",
    "\n"
   ]
  },
  {
   "cell_type": "markdown",
   "metadata": {},
   "source": []
  },
  {
   "cell_type": "code",
   "execution_count": 30,
   "metadata": {},
   "outputs": [
    {
     "name": "stdout",
     "output_type": "stream",
     "text": [
      "0.009947 * age + -0.000207 * bmi + 0.002181 * bp + 0.007670 * glu + 0.038470 * chol + -0.108029\n"
     ]
    }
   ],
   "source": [
    "X = df.drop(columns=[\"BEDAYNTM\"])\n",
    "Y = df[\"BEDAYNTM\"]\n",
    "\n",
    "regressor = linear_model.LinearRegression(fit_intercept=True)\n",
    "\n",
    "regressor.fit(X, Y)\n",
    "age, bmi, bp, glu, chol = regressor.coef_\n",
    "intercept = regressor.intercept_\n",
    "\n",
    "print(\"%f * age + %f * bmi + %f * bp + %f * glu + %f * chol + %f\" % (age, bmi, bp, glu, chol, intercept))"
   ]
  },
  {
   "cell_type": "markdown",
   "metadata": {},
   "source": [
    "- split"
   ]
  },
  {
   "cell_type": "code",
   "execution_count": 9,
   "metadata": {},
   "outputs": [],
   "source": [
    "training = df[0:80]\n",
    "testing = df[80:df.shape[0]]"
   ]
  },
  {
   "cell_type": "code",
   "execution_count": 38,
   "metadata": {},
   "outputs": [
    {
     "name": "stdout",
     "output_type": "stream",
     "text": [
      "Mean error: 0.305326\n",
      "Var error: 0.369470\n"
     ]
    }
   ],
   "source": [
    "from sklearn.metrics import mean_absolute_error\n",
    "\n",
    "X2 = training.drop(columns=[\"BEDAYNTM\"])\n",
    "Y2 = training[\"BEDAYNTM\"]\n",
    "\n",
    "X_test = testing.drop(columns=[\"BEDAYNTM\"])\n",
    "Y_test = testing[\"BEDAYNTM\"]\n",
    "\n",
    "regressor.fit(X2, Y2)\n",
    "\n",
    "age, bmi, bp, glu, chol = regressor.coef_\n",
    "intercept = regressor.intercept_\n",
    "\n",
    "y_pred = regressor.predict(X_test)\n",
    "\n",
    "errors = y_pred - Y_test\n",
    "# mean_error = np.mean(np.abs(y_pred - Y_test))\n",
    "mean_error = mean_absolute_error(y_pred, Y_test)\n",
    "\n",
    "var_error = sum((errors - mean_error)**2)/errors.shape[0]\n",
    "\n",
    "print(\"Mean error: %f\" %mean_error)\n",
    "print(\"Var error: %f\" %var_error)\n"
   ]
  }
 ],
 "metadata": {
  "kernelspec": {
   "display_name": "Python 3",
   "language": "python",
   "name": "python3"
  },
  "language_info": {
   "codemirror_mode": {
    "name": "ipython",
    "version": 3
   },
   "file_extension": ".py",
   "mimetype": "text/x-python",
   "name": "python",
   "nbconvert_exporter": "python",
   "pygments_lexer": "ipython3",
   "version": "3.11.5"
  }
 },
 "nbformat": 4,
 "nbformat_minor": 2
}
