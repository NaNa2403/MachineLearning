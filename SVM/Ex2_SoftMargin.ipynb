{
 "cells": [
  {
   "cell_type": "code",
   "execution_count": 1,
   "metadata": {},
   "outputs": [],
   "source": [
    "import pandas as pd\n",
    "from sklearn import svm\n",
    "from sklearn.model_selection import train_test_split\n",
    "from sklearn.metrics import accuracy_score, confusion_matrix, ConfusionMatrixDisplay"
   ]
  },
  {
   "cell_type": "code",
   "execution_count": 2,
   "metadata": {},
   "outputs": [],
   "source": [
    "data = pd.read_csv('sonar.csv', header=None)"
   ]
  },
  {
   "cell_type": "code",
   "execution_count": 3,
   "metadata": {},
   "outputs": [],
   "source": [
    "# Chuyển đổi nhãn \"R\" thành -1 và nhãn \"M\" thành 1\n",
    "y_df = data[60]\n",
    "targes_label = {'M': 1,'R': -1}\n",
    "targes_df = [targes_label[item] for item in y_df]\n",
    "\n",
    "# Lấy phần dữ liệu quan sát (bỏ cột 60)\n",
    "inputs_df = data.drop(60, axis=1)\n",
    "\n",
    "# Chia dữ liệu\n",
    "X_train, X_test, y_train, y_test = train_test_split(inputs_df, targes_df, test_size=0.2, random_state=42)"
   ]
  },
  {
   "cell_type": "code",
   "execution_count": 4,
   "metadata": {},
   "outputs": [
    {
     "name": "stdout",
     "output_type": "stream",
     "text": [
      "w =  [[ 10.71238415  -1.00187936 -10.18547311  11.86884925   1.33970063\n",
      "    1.74309478  -5.98521847  -1.95347177   5.05859239  -5.26843693\n",
      "   11.59751082   0.16756144   0.50933331  -4.35489137   2.20677493\n",
      "   -1.61237934   0.31431434   0.12660301  -1.0098638    3.2304181\n",
      "   -2.15624597   3.05041982  -4.00638893   8.08296082  -0.75990953\n",
      "   -3.68144063   5.85560555  -5.23639292   2.35678156   3.76793853\n",
      "   -9.70412058   5.62523751   2.20601382  -3.85825116   4.43907386\n",
      "   -3.7010094   -4.27505601   1.27991869   5.83212295 -10.44289938\n",
      "    2.89011889  -1.06826982   6.92048811  -0.14365986   5.42182431\n",
      "   -0.23218119   4.70592193   8.56818498   9.74151285  -8.95193796\n",
      "    7.58782312   0.88636331   2.91514277   6.02412582   1.42457273\n",
      "   -3.19051731  -3.61882141   4.30887097   4.47698421   2.43075252]]\n",
      "b =  [-6.84881695]\n"
     ]
    }
   ],
   "source": [
    "model = svm.SVC(kernel='linear', C=100)\n",
    "\n",
    "model.fit(X_train, y_train)\n",
    "\n",
    "w = model.coef_\n",
    "w0 = model.intercept_\n",
    "print('w = ', w)\n",
    "print('b = ', w0)"
   ]
  },
  {
   "cell_type": "code",
   "execution_count": 5,
   "metadata": {},
   "outputs": [
    {
     "name": "stdout",
     "output_type": "stream",
     "text": [
      "Accuracy:  0.8095238095238095\n",
      "Confusion matrix: \n",
      "[[15  1]\n",
      " [ 7 19]]\n"
     ]
    }
   ],
   "source": [
    "from sklearn.metrics import accuracy_score, confusion_matrix, ConfusionMatrixDisplay\n",
    "\n",
    "y_pred = model.predict(X_test)\n",
    "\n",
    "accuracy = accuracy_score(y_test, y_pred)\n",
    "print(\"Accuracy: \", accuracy)\n",
    "\n",
    "cfs_matrix = confusion_matrix(y_test, y_pred)\n",
    "print(\"Confusion matrix: \")\n",
    "print(cfs_matrix)"
   ]
  }
 ],
 "metadata": {
  "kernelspec": {
   "display_name": "Python 3",
   "language": "python",
   "name": "python3"
  },
  "language_info": {
   "codemirror_mode": {
    "name": "ipython",
    "version": 3
   },
   "file_extension": ".py",
   "mimetype": "text/x-python",
   "name": "python",
   "nbconvert_exporter": "python",
   "pygments_lexer": "ipython3",
   "version": "3.11.5"
  }
 },
 "nbformat": 4,
 "nbformat_minor": 2
}
