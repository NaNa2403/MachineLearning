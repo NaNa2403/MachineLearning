{
 "cells": [
  {
   "cell_type": "code",
   "execution_count": 1,
   "metadata": {},
   "outputs": [],
   "source": [
    "# generate data\n",
    "# list of points\n",
    "import numpy as np\n",
    "import matplotlib.pyplot as plt\n",
    "from scipy.spatial.distance import cdist\n",
    "np.random.seed(21)\n",
    "from matplotlib.backends.backend_pdf import PdfPages\n",
    "\n",
    "means = [[2, 2], [4, 1]]\n",
    "cov = [[.3, .2], [.2, .3]]\n",
    "N = 10\n",
    "X0 = np.random.multivariate_normal(means[0], cov, N)\n",
    "X1 = np.random.multivariate_normal(means[1], cov, N)\n",
    "X1[-1, :] = [2.7, 2]\n",
    "X = np.concatenate((X0.T, X1.T), axis = 1)\n",
    "y = np.concatenate((np.ones((1, N)), -1*np.ones((1, N))), axis = 1)"
   ]
  },
  {
   "cell_type": "markdown",
   "metadata": {},
   "source": [
    "Cách 1. Tự xây dựng các bước giải bài toán ràng buộc:"
   ]
  },
  {
   "cell_type": "code",
   "execution_count": 2,
   "metadata": {},
   "outputs": [
    {
     "data": {
      "image/png": "[encoded data removed]",
      "text/plain": [
       "<Figure size 500x500 with 1 Axes>"
      ]
     },
     "metadata": {},
     "output_type": "display_data"
    }
   ],
   "source": [
    "import matplotlib.pyplot as plt\n",
    "fig, ax = plt.subplots(figsize=(5, 5))\n",
    "\n",
    "ani = plt.cla()\n",
    "#plot points\n",
    "ani = plt.plot(X0.T[0, :], X0.T[1, :], 'b^', markersize = 5, alpha = .8)\n",
    "ani = plt.plot(X1.T[0, :], X1.T[1, :], 'ro', markersize = 5, alpha = .8)\n",
    "ani = plt.axis([-1 , 6, -1, 6])\n",
    "plt.show()"
   ]
  },
  {
   "cell_type": "code",
   "execution_count": 3,
   "metadata": {},
   "outputs": [
    {
     "name": "stdout",
     "output_type": "stream",
     "text": [
      "lambda = \n",
      " [[1.26997770e-08 7.29907090e-09 6.75263620e+00 1.20067067e-08\n",
      "  8.83482181e-09 1.00135373e-08 9.49241066e-09 1.10095260e-08\n",
      "  1.09448265e-08 1.15277180e+01 3.06483278e-09 2.92217775e-09\n",
      "  3.52341246e-09 5.49363383e-09 4.48478627e-09 7.55953464e-09\n",
      "  2.73325320e-09 5.71296652e-09 5.02756847e-09 1.82803543e+01]]\n"
     ]
    }
   ],
   "source": [
    "from cvxopt import matrix, solvers\n",
    "C = 100\n",
    "# build K\n",
    "V = np.concatenate((X0.T, -X1.T), axis = 1)\n",
    "K = matrix(V.T.dot(V))\n",
    "\n",
    "p = matrix(-np.ones((2*N, 1)))\n",
    "# build A, b, G, h\n",
    "G = matrix(np.vstack((-np.eye(2*N), np.eye(2*N))))\n",
    "\n",
    "h = matrix(np.vstack((np.zeros((2*N, 1)), C*np.ones((2*N, 1)))))\n",
    "A = matrix(y.reshape((-1, 2*N)))\n",
    "b = matrix(np.zeros((1, 1)))\n",
    "solvers.options['show_progress'] = False\n",
    "sol = solvers.qp(K, p, G, h, A, b)\n",
    "\n",
    "l = np.array(sol['x'])\n",
    "print('lambda = \\n', l.T)"
   ]
  },
  {
   "cell_type": "code",
   "execution_count": 4,
   "metadata": {},
   "outputs": [
    {
     "name": "stdout",
     "output_type": "stream",
     "text": [
      "[[-5.54276837  2.41628387]] 9.132906850859719\n"
     ]
    }
   ],
   "source": [
    "S = np.where(l > 1e-5)[0] # support set\n",
    "S2 = np.where(l < .999*C)[0]\n",
    "\n",
    "M = [val for val in S if val in S2] # intersection of two lists\n",
    "\n",
    "# XT = X.T # we need each column to be one data point in this alg\n",
    "VS = V[:, S]\n",
    "lS = l[S]\n",
    "yM = y[:, M]\n",
    "XM = X[:, M]\n",
    "\n",
    "w_dual = VS.dot(lS).reshape(-1, 1)\n",
    "b_dual = np.mean(yM.T - w_dual.T.dot(XM))\n",
    "print(w_dual.T, b_dual)"
   ]
  },
  {
   "cell_type": "markdown",
   "metadata": {},
   "source": [
    "Cách 2. Xây dựng phương pháp giải bài toán tối ưu không ràng buộc:"
   ]
  },
  {
   "cell_type": "code",
   "execution_count": 5,
   "metadata": {},
   "outputs": [
    {
     "name": "stdout",
     "output_type": "stream",
     "text": [
      "Gradient different: 0.000000\n"
     ]
    }
   ],
   "source": [
    "X0_bar = np.vstack((X0.T, np.ones((1, N)))) # extended data\n",
    "X1_bar = np.vstack((X1.T, np.ones((1, N)))) # extended data\n",
    "\n",
    "Z = np.hstack((X0_bar, - X1_bar)) # as in (22)\n",
    "lam = 1./C\n",
    "\n",
    "def cost(w):\n",
    "    u = w.T.dot(Z) # as in (23)\n",
    "    return (np.sum(np.maximum(0, 1 - u)) + .5*lam*np.sum(w*w)) - .5*lam*w[-1]*w[-1] # no bias\n",
    "\n",
    "def grad(w):\n",
    "    u = w.T.dot(Z) # as in (23)\n",
    "    H = np.where(u < 1)[1]\n",
    "    ZS = Z[:, H]\n",
    "    g = (-np.sum(ZS, axis = 1, keepdims = True) + lam*w)\n",
    "    g[-1] -= lam*w[-1] # no weight decay on bias\n",
    "    return g\n",
    "\n",
    "eps = 1e-6\n",
    "def num_grad(w):\n",
    "    g = np.zeros_like(w)\n",
    "    for i in range(len(w)):\n",
    "        wp = w.copy()\n",
    "        wm = w.copy()\n",
    "        wp[i] += eps\n",
    "        wm[i] -= eps\n",
    "        g[i] = (cost(wp) - cost(wm))/(2*eps)\n",
    "    return g\n",
    "\n",
    "w0 = np.random.randn(X0_bar.shape[0], 1)\n",
    "g1 = grad(w0)\n",
    "g2 = num_grad(w0)\n",
    "diff = np.linalg.norm(g1 - g2)\n",
    "print('Gradient different: %f' %diff)"
   ]
  },
  {
   "cell_type": "code",
   "execution_count": 6,
   "metadata": {},
   "outputs": [
    {
     "name": "stdout",
     "output_type": "stream",
     "text": [
      "iter 1 cost: 87.184655\n",
      "iter 10001 cost: 1.430915\n",
      "iter 20001 cost: 1.092201\n",
      "iter 30001 cost: 0.779892\n",
      "iter 40001 cost: 0.491327\n",
      "iter 50001 cost: 0.218693\n",
      "iter 60001 cost: 0.183223\n",
      "iter 70001 cost: 0.183222\n",
      "iter 80001 cost: 0.183221\n",
      "iter 90001 cost: 0.183220\n",
      "[[-5.54923267  2.41881653]] [9.14508377]\n"
     ]
    }
   ],
   "source": [
    "def grad_descent(w0, eta):\n",
    "    w = w0\n",
    "    it = 0\n",
    "    while it < 100000:\n",
    "        it = it + 1\n",
    "        g = grad(w)\n",
    "        w -= eta*g\n",
    "        if (it % 10000) == 1:\n",
    "            print('iter %d' %it + ' cost: %f' %cost(w))\n",
    "        if np.linalg.norm(g) < 1e-5:\n",
    "            break\n",
    "    return w\n",
    "\n",
    "w0 = np.random.randn(X0_bar.shape[0], 1)\n",
    "w = grad_descent(w0, 0.001)\n",
    "w_hinge = w[:-1].reshape(-1, 1)\n",
    "b_hinge = w[-1]\n",
    "print(w_hinge.T, b_hinge)"
   ]
  },
  {
   "cell_type": "markdown",
   "metadata": {},
   "source": [
    "Cách 3. Sử dụng thư viện:"
   ]
  },
  {
   "cell_type": "code",
   "execution_count": 7,
   "metadata": {},
   "outputs": [
    {
     "name": "stdout",
     "output_type": "stream",
     "text": [
      "w =  [[-5.54202362  2.4156074 ]]\n",
      "b =  [9.13241559]\n"
     ]
    }
   ],
   "source": [
    "from sklearn.svm import SVC\n",
    "# Copy and put code for generate data here\n",
    "y1 = y.reshape((2*N,))\n",
    "X1 = X.T # each sample is one row\n",
    "clf = SVC(kernel = 'linear', C = 100) # use the same C\n",
    "# if C is small, method will be “SoftMagin SVM”,\n",
    "# if C is large enough, method is near to hard margin\n",
    "clf.fit(X1, y1)\n",
    "\n",
    "w = clf.coef_\n",
    "w0 = clf.intercept_\n",
    "print('w = ', w)\n",
    "print('b = ', w0)"
   ]
  },
  {
   "cell_type": "markdown",
   "metadata": {},
   "source": [
    "Kết quả từ 3 phương pháp có bộ hệ số gần giống nhau"
   ]
  },
  {
   "cell_type": "markdown",
   "metadata": {},
   "source": [
    "Bài tập thực hành 1: Xem lại các bài ví dụ phần trước, sử dụng bộ trọng số W đã tính được và dự đoán các phân lớp y ứng với dữ liệu\n",
    "X trên chính tập dữ liệu ngẫu nhiên vừa tạo. Đưa ra độ chính xác Accuracy và ma trận nhầm lẫn Confusion Matrix."
   ]
  },
  {
   "cell_type": "code",
   "execution_count": 8,
   "metadata": {},
   "outputs": [],
   "source": [
    "import numpy as np\n",
    "import matplotlib.pyplot as plt\n",
    "from scipy.spatial.distance import cdist\n",
    "np.random.seed(1121)\n",
    "from matplotlib.backends.backend_pdf import PdfPages\n",
    "\n",
    "means = [[2, 2], [4, 1]]\n",
    "cov = [[.3, .2], [.2, .3]]\n",
    "N = 200\n",
    "X0 = np.random.multivariate_normal(means[0], cov, N)\n",
    "X1 = np.random.multivariate_normal(means[1], cov, N)\n",
    "X1[-1, :] = [2.7, 2]\n",
    "X = np.concatenate((X0.T, X1.T), axis = 1)\n",
    "y = np.concatenate((np.ones((1, N)), -1*np.ones((1, N))), axis = 1)"
   ]
  },
  {
   "cell_type": "code",
   "execution_count": 9,
   "metadata": {},
   "outputs": [
    {
     "data": {
      "image/png": "[encoded data removed]",
      "text/plain": [
       "<Figure size 1000x1000 with 1 Axes>"
      ]
     },
     "metadata": {},
     "output_type": "display_data"
    }
   ],
   "source": [
    "import matplotlib.pyplot as plt\n",
    "fig, ax = plt.subplots(figsize=(10, 10))\n",
    "ani = plt.cla()\n",
    "#plot points\n",
    "ani = plt.plot(X0.T[0, :], X0.T[1, :], 'b^', markersize = 5, alpha = .8)\n",
    "ani = plt.plot(X1.T[0, :], X1.T[1, :], 'ro', markersize = 5, alpha = .8)\n",
    "ani = plt.axis([0 , 6, 0, 6])\n",
    "plt.show()"
   ]
  },
  {
   "cell_type": "code",
   "execution_count": 10,
   "metadata": {},
   "outputs": [],
   "source": [
    "y1 = y.reshape((2*N,))\n",
    "X1 = X.T # each sample is one row\n",
    "\n",
    "from sklearn.model_selection import train_test_split\n",
    "X_train, X_test, y_train, y_test = train_test_split(X1, y1, test_size=0.2, random_state=42)"
   ]
  },
  {
   "cell_type": "code",
   "execution_count": 11,
   "metadata": {},
   "outputs": [
    {
     "name": "stdout",
     "output_type": "stream",
     "text": [
      "w =  [[-3.88521019  2.87059132]]\n",
      "b =  [6.58987168]\n"
     ]
    }
   ],
   "source": [
    "from sklearn.svm import SVC\n",
    "\n",
    "clf = SVC(kernel = 'linear', C = 100) # use the same C\n",
    "# if C is small, method will be “SoftMagin SVM”,\n",
    "# if C is large enough, method is near to hard margin\n",
    "clf.fit(X_train, y_train)\n",
    "\n",
    "w = clf.coef_\n",
    "w0 = clf.intercept_\n",
    "print('w = ', w)\n",
    "print('b = ', w0)"
   ]
  },
  {
   "cell_type": "code",
   "execution_count": 12,
   "metadata": {},
   "outputs": [
    {
     "name": "stdout",
     "output_type": "stream",
     "text": [
      "Accuracy:  1.0\n",
      "Confusion matrix: \n",
      "[[36  0]\n",
      " [ 0 44]]\n"
     ]
    }
   ],
   "source": [
    "from sklearn.metrics import accuracy_score, confusion_matrix, ConfusionMatrixDisplay\n",
    "\n",
    "y_pred = clf.predict(X_test)\n",
    "\n",
    "accuracy = accuracy_score(y_test, y_pred)\n",
    "print(\"Accuracy: \", accuracy)\n",
    "\n",
    "cfs_matrix = confusion_matrix(y_test, y_pred)\n",
    "print(\"Confusion matrix: \")\n",
    "print(cfs_matrix)"
   ]
  }
 ],
 "metadata": {
  "kernelspec": {
   "display_name": "Python 3",
   "language": "python",
   "name": "python3"
  },
  "language_info": {
   "codemirror_mode": {
    "name": "ipython",
    "version": 3
   },
   "file_extension": ".py",
   "mimetype": "text/x-python",
   "name": "python",
   "nbconvert_exporter": "python",
   "pygments_lexer": "ipython3",
   "version": "3.11.5"
  }
 },
 "nbformat": 4,
 "nbformat_minor": 2
}
