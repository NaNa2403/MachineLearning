{
 "cells": [
  {
   "cell_type": "code",
   "execution_count": 1,
   "metadata": {},
   "outputs": [],
   "source": [
    "from sklearn import datasets\n",
    "from sklearn.model_selection import train_test_split\n",
    "from sklearn.metrics import accuracy_score, confusion_matrix, ConfusionMatrixDisplay\n",
    "\n",
    "cancer_data = datasets.load_breast_cancer()\n",
    "X_train, X_test, y_train, y_test = train_test_split(cancer_data.data, cancer_data.target, test_size=0.3, random_state=109)"
   ]
  },
  {
   "cell_type": "code",
   "execution_count": 2,
   "metadata": {},
   "outputs": [
    {
     "name": "stdout",
     "output_type": "stream",
     "text": [
      "w =  [[ 1.55841303e+04  5.69829895e+03  6.01236606e+02 -2.11652064e+02\n",
      "  -7.58418989e+03 -3.58287335e+03 -2.28082132e+04 -1.67774049e+04\n",
      "  -2.14646639e+04  2.35627498e+02 -4.23531681e+03  3.41852567e+04\n",
      "  -7.07061016e+02 -1.82451704e+03 -1.29485985e+03  5.13476398e+03\n",
      "  -1.07869294e+03 -3.52075548e+03 -5.84510533e+03  3.23810408e+02\n",
      "   1.32407386e+03 -8.43438203e+03 -6.60376568e+02 -6.59702826e+00\n",
      "  -1.27800564e+04  1.10353669e+04 -4.11879410e+04 -3.48086330e+04\n",
      "  -6.38834076e+04  8.62849570e+02]]\n",
      "W0 =  [88059.708578]\n"
     ]
    }
   ],
   "source": [
    "from sklearn.svm import SVC\n",
    "\n",
    "clf = SVC(kernel = 'linear', C = 1e5)\n",
    "clf.fit(X_train, y_train)\n",
    "w = clf.coef_\n",
    "w0 = clf.intercept_\n",
    "print('w = ', w)\n",
    "print('W0 = ', w0)"
   ]
  },
  {
   "cell_type": "code",
   "execution_count": 3,
   "metadata": {},
   "outputs": [
    {
     "name": "stdout",
     "output_type": "stream",
     "text": [
      "Accuracy:  0.9649122807017544\n",
      "Confusion matrix: \n"
     ]
    },
    {
     "data": {
      "text/plain": [
       "<sklearn.metrics._plot.confusion_matrix.ConfusionMatrixDisplay at 0x1f6ffc7ea20>"
      ]
     },
     "execution_count": 3,
     "metadata": {},
     "output_type": "execute_result"
    },
    {
     "data": {
      "image/png": "[encoded data removed]",
      "text/plain": [
       "<Figure size 640x480 with 2 Axes>"
      ]
     },
     "metadata": {},
     "output_type": "display_data"
    }
   ],
   "source": [
    "y_pred = clf.predict(X_test)\n",
    "\n",
    "accuracy = accuracy_score(y_test, y_pred)\n",
    "print(\"Accuracy: \", accuracy)\n",
    "\n",
    "cfs_matrix = confusion_matrix(y_test, y_pred)\n",
    "print(\"Confusion matrix: \")\n",
    "ConfusionMatrixDisplay(cfs_matrix).plot()"
   ]
  }
 ],
 "metadata": {
  "kernelspec": {
   "display_name": "Python 3",
   "language": "python",
   "name": "python3"
  },
  "language_info": {
   "codemirror_mode": {
    "name": "ipython",
    "version": 3
   },
   "file_extension": ".py",
   "mimetype": "text/x-python",
   "name": "python",
   "nbconvert_exporter": "python",
   "pygments_lexer": "ipython3",
   "version": "3.12.1"
  }
 },
 "nbformat": 4,
 "nbformat_minor": 2
}
