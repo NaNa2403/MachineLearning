{
 "cells": [
  {
   "cell_type": "markdown",
   "metadata": {},
   "source": [
    "# Đề tài 1. # \n",
    "Động đất Nepal 2015 là một trận động đất mạnh khoảng 7,8 hoặc 8,1 độ xảy ra hồi 11:56 NST vào thứ bảy ngày\n",
    "25 tháng 4 năm 2015. Sau khi cuộc động đất xảy ra, đã có rất nhiều cuộc điều tra khảo sát thực địa nhằm xác định thiệt hại\n",
    "của các tòa nhà. Tuy nhiên, tại Nepal có số lượng rất lớn các tòa nhà cũng với đặc tính, điều kiện môi trường xung quanh\n",
    "khác nhau nên việc xác định mức độ thiệt hại của các tòa nhà là rất khó khăn. Mục tiêu của đề tài này là đề xuất một công\n",
    "cụ dựa trên Học máy nhằm giúp những người thực hiện khảo sát dễ dàng đánh giá mức độ thiệt hại của các tòa nhà trong\n",
    "khu vực (Phụ lục)."
   ]
  },
  {
   "cell_type": "markdown",
   "metadata": {},
   "source": [
    "## Import Library ##"
   ]
  },
  {
   "cell_type": "code",
   "execution_count": 2,
   "metadata": {},
   "outputs": [],
   "source": [
    "import numpy as np\n",
    "import pandas as pd\n",
    "import matplotlib.pyplot as plt\n",
    "import seaborn as sns\n",
    "\n",
    "# Sklearn library\n",
    "from sklearn.preprocessing import StandardScaler, LabelEncoder, OneHotEncoder\n",
    "from sklearn.model_selection import train_test_split\n",
    "from sklearn.metrics import accuracy_score, recall_score, precision_score, confusion_matrix, ConfusionMatrixDisplay, classification_report, f1_score\n"
   ]
  },
  {
   "cell_type": "markdown",
   "metadata": {},
   "source": [
    "## Load Data ##"
   ]
  },
  {
   "cell_type": "code",
   "execution_count": 20,
   "metadata": {},
   "outputs": [],
   "source": [
    "X = pd.read_csv(\"train_values.csv\", index_col=\"building_id\")\n",
    "y = pd.read_csv(\"train_labels.csv\", index_col=\"building_id\")\n",
    "X_test = pd.read_csv(\"test_values.csv\", index_col=\"building_id\")\n"
   ]
  },
  {
   "cell_type": "code",
   "execution_count": 22,
   "metadata": {},
   "outputs": [
    {
     "data": {
      "text/html": [
       "<div>\n",
       "<style scoped>\n",
       "    .dataframe tbody tr th:only-of-type {\n",
       "        vertical-align: middle;\n",
       "    }\n",
       "\n",
       "    .dataframe tbody tr th {\n",
       "        vertical-align: top;\n",
       "    }\n",
       "\n",
       "    .dataframe thead th {\n",
       "        text-align: right;\n",
       "    }\n",
       "</style>\n",
       "<table border=\"1\" class=\"dataframe\">\n",
       "  <thead>\n",
       "    <tr style=\"text-align: right;\">\n",
       "      <th></th>\n",
       "      <th>land_surface_condition</th>\n",
       "      <th>foundation_type</th>\n",
       "    </tr>\n",
       "    <tr>\n",
       "      <th>building_id</th>\n",
       "      <th></th>\n",
       "      <th></th>\n",
       "    </tr>\n",
       "  </thead>\n",
       "  <tbody>\n",
       "    <tr>\n",
       "      <th>802906</th>\n",
       "      <td>t</td>\n",
       "      <td>r</td>\n",
       "    </tr>\n",
       "    <tr>\n",
       "      <th>28830</th>\n",
       "      <td>o</td>\n",
       "      <td>r</td>\n",
       "    </tr>\n",
       "    <tr>\n",
       "      <th>94947</th>\n",
       "      <td>t</td>\n",
       "      <td>r</td>\n",
       "    </tr>\n",
       "    <tr>\n",
       "      <th>590882</th>\n",
       "      <td>t</td>\n",
       "      <td>r</td>\n",
       "    </tr>\n",
       "    <tr>\n",
       "      <th>201944</th>\n",
       "      <td>t</td>\n",
       "      <td>r</td>\n",
       "    </tr>\n",
       "    <tr>\n",
       "      <th>...</th>\n",
       "      <td>...</td>\n",
       "      <td>...</td>\n",
       "    </tr>\n",
       "    <tr>\n",
       "      <th>688636</th>\n",
       "      <td>n</td>\n",
       "      <td>r</td>\n",
       "    </tr>\n",
       "    <tr>\n",
       "      <th>669485</th>\n",
       "      <td>t</td>\n",
       "      <td>r</td>\n",
       "    </tr>\n",
       "    <tr>\n",
       "      <th>602512</th>\n",
       "      <td>t</td>\n",
       "      <td>r</td>\n",
       "    </tr>\n",
       "    <tr>\n",
       "      <th>151409</th>\n",
       "      <td>t</td>\n",
       "      <td>r</td>\n",
       "    </tr>\n",
       "    <tr>\n",
       "      <th>747594</th>\n",
       "      <td>n</td>\n",
       "      <td>r</td>\n",
       "    </tr>\n",
       "  </tbody>\n",
       "</table>\n",
       "<p>260601 rows × 2 columns</p>\n",
       "</div>"
      ],
      "text/plain": [
       "            land_surface_condition foundation_type\n",
       "building_id                                       \n",
       "802906                           t               r\n",
       "28830                            o               r\n",
       "94947                            t               r\n",
       "590882                           t               r\n",
       "201944                           t               r\n",
       "...                            ...             ...\n",
       "688636                           n               r\n",
       "669485                           t               r\n",
       "602512                           t               r\n",
       "151409                           t               r\n",
       "747594                           n               r\n",
       "\n",
       "[260601 rows x 2 columns]"
      ]
     },
     "execution_count": 22,
     "metadata": {},
     "output_type": "execute_result"
    }
   ],
   "source": [
    "X[([\"land_surface_condition\",\"foundation_type\"])]"
   ]
  },
  {
   "cell_type": "markdown",
   "metadata": {},
   "source": [
    "## Preprocessing ##"
   ]
  },
  {
   "cell_type": "code",
   "execution_count": 23,
   "metadata": {},
   "outputs": [
    {
     "name": "stdout",
     "output_type": "stream",
     "text": [
      "Index(['geo_level_1_id', 'geo_level_2_id', 'geo_level_3_id',\n",
      "       'count_floors_pre_eq', 'age', 'area_percentage', 'height_percentage',\n",
      "       'has_superstructure_adobe_mud', 'has_superstructure_mud_mortar_stone',\n",
      "       'has_superstructure_stone_flag',\n",
      "       'has_superstructure_cement_mortar_stone',\n",
      "       'has_superstructure_mud_mortar_brick',\n",
      "       'has_superstructure_cement_mortar_brick', 'has_superstructure_timber',\n",
      "       'has_superstructure_bamboo', 'has_superstructure_rc_non_engineered',\n",
      "       'has_superstructure_rc_engineered', 'has_superstructure_other',\n",
      "       'count_families', 'has_secondary_use', 'has_secondary_use_agriculture',\n",
      "       'has_secondary_use_hotel', 'has_secondary_use_rental',\n",
      "       'has_secondary_use_institution', 'has_secondary_use_school',\n",
      "       'has_secondary_use_industry', 'has_secondary_use_health_post',\n",
      "       'has_secondary_use_gov_office', 'has_secondary_use_use_police',\n",
      "       'has_secondary_use_other', 'land_surface_condition_n',\n",
      "       'land_surface_condition_o', 'land_surface_condition_t',\n",
      "       'foundation_type_h', 'foundation_type_i', 'foundation_type_r',\n",
      "       'foundation_type_u', 'foundation_type_w', 'roof_type_n', 'roof_type_q',\n",
      "       'roof_type_x', 'ground_floor_type_f', 'ground_floor_type_m',\n",
      "       'ground_floor_type_v', 'ground_floor_type_x', 'ground_floor_type_z',\n",
      "       'other_floor_type_j', 'other_floor_type_q', 'other_floor_type_s',\n",
      "       'other_floor_type_x', 'position_j', 'position_o', 'position_s',\n",
      "       'position_t', 'plan_configuration_a', 'plan_configuration_c',\n",
      "       'plan_configuration_d', 'plan_configuration_f', 'plan_configuration_m',\n",
      "       'plan_configuration_n', 'plan_configuration_o', 'plan_configuration_q',\n",
      "       'plan_configuration_s', 'plan_configuration_u',\n",
      "       'legal_ownership_status_a', 'legal_ownership_status_r',\n",
      "       'legal_ownership_status_v', 'legal_ownership_status_w'],\n",
      "      dtype='object')\n"
     ]
    }
   ],
   "source": [
    "y['damage_grade'] = y['damage_grade'].replace({1: 0, 2: 1, 3: 2})\n",
    "#Encode the dataset\n",
    "X = pd.get_dummies(X, dtype = int)\n",
    "print(X.columns)\n",
    "\n"
   ]
  },
  {
   "cell_type": "code",
   "execution_count": 24,
   "metadata": {},
   "outputs": [
    {
     "data": {
      "text/html": [
       "<div>\n",
       "<style scoped>\n",
       "    .dataframe tbody tr th:only-of-type {\n",
       "        vertical-align: middle;\n",
       "    }\n",
       "\n",
       "    .dataframe tbody tr th {\n",
       "        vertical-align: top;\n",
       "    }\n",
       "\n",
       "    .dataframe thead th {\n",
       "        text-align: right;\n",
       "    }\n",
       "</style>\n",
       "<table border=\"1\" class=\"dataframe\">\n",
       "  <thead>\n",
       "    <tr style=\"text-align: right;\">\n",
       "      <th></th>\n",
       "      <th>land_surface_condition_n</th>\n",
       "      <th>land_surface_condition_o</th>\n",
       "      <th>land_surface_condition_t</th>\n",
       "      <th>foundation_type_h</th>\n",
       "      <th>foundation_type_i</th>\n",
       "      <th>foundation_type_r</th>\n",
       "    </tr>\n",
       "    <tr>\n",
       "      <th>building_id</th>\n",
       "      <th></th>\n",
       "      <th></th>\n",
       "      <th></th>\n",
       "      <th></th>\n",
       "      <th></th>\n",
       "      <th></th>\n",
       "    </tr>\n",
       "  </thead>\n",
       "  <tbody>\n",
       "    <tr>\n",
       "      <th>802906</th>\n",
       "      <td>0</td>\n",
       "      <td>0</td>\n",
       "      <td>1</td>\n",
       "      <td>0</td>\n",
       "      <td>0</td>\n",
       "      <td>1</td>\n",
       "    </tr>\n",
       "    <tr>\n",
       "      <th>28830</th>\n",
       "      <td>0</td>\n",
       "      <td>1</td>\n",
       "      <td>0</td>\n",
       "      <td>0</td>\n",
       "      <td>0</td>\n",
       "      <td>1</td>\n",
       "    </tr>\n",
       "    <tr>\n",
       "      <th>94947</th>\n",
       "      <td>0</td>\n",
       "      <td>0</td>\n",
       "      <td>1</td>\n",
       "      <td>0</td>\n",
       "      <td>0</td>\n",
       "      <td>1</td>\n",
       "    </tr>\n",
       "    <tr>\n",
       "      <th>590882</th>\n",
       "      <td>0</td>\n",
       "      <td>0</td>\n",
       "      <td>1</td>\n",
       "      <td>0</td>\n",
       "      <td>0</td>\n",
       "      <td>1</td>\n",
       "    </tr>\n",
       "    <tr>\n",
       "      <th>201944</th>\n",
       "      <td>0</td>\n",
       "      <td>0</td>\n",
       "      <td>1</td>\n",
       "      <td>0</td>\n",
       "      <td>0</td>\n",
       "      <td>1</td>\n",
       "    </tr>\n",
       "    <tr>\n",
       "      <th>...</th>\n",
       "      <td>...</td>\n",
       "      <td>...</td>\n",
       "      <td>...</td>\n",
       "      <td>...</td>\n",
       "      <td>...</td>\n",
       "      <td>...</td>\n",
       "    </tr>\n",
       "    <tr>\n",
       "      <th>688636</th>\n",
       "      <td>1</td>\n",
       "      <td>0</td>\n",
       "      <td>0</td>\n",
       "      <td>0</td>\n",
       "      <td>0</td>\n",
       "      <td>1</td>\n",
       "    </tr>\n",
       "    <tr>\n",
       "      <th>669485</th>\n",
       "      <td>0</td>\n",
       "      <td>0</td>\n",
       "      <td>1</td>\n",
       "      <td>0</td>\n",
       "      <td>0</td>\n",
       "      <td>1</td>\n",
       "    </tr>\n",
       "    <tr>\n",
       "      <th>602512</th>\n",
       "      <td>0</td>\n",
       "      <td>0</td>\n",
       "      <td>1</td>\n",
       "      <td>0</td>\n",
       "      <td>0</td>\n",
       "      <td>1</td>\n",
       "    </tr>\n",
       "    <tr>\n",
       "      <th>151409</th>\n",
       "      <td>0</td>\n",
       "      <td>0</td>\n",
       "      <td>1</td>\n",
       "      <td>0</td>\n",
       "      <td>0</td>\n",
       "      <td>1</td>\n",
       "    </tr>\n",
       "    <tr>\n",
       "      <th>747594</th>\n",
       "      <td>1</td>\n",
       "      <td>0</td>\n",
       "      <td>0</td>\n",
       "      <td>0</td>\n",
       "      <td>0</td>\n",
       "      <td>1</td>\n",
       "    </tr>\n",
       "  </tbody>\n",
       "</table>\n",
       "<p>260601 rows × 6 columns</p>\n",
       "</div>"
      ],
      "text/plain": [
       "             land_surface_condition_n  land_surface_condition_o  \\\n",
       "building_id                                                       \n",
       "802906                              0                         0   \n",
       "28830                               0                         1   \n",
       "94947                               0                         0   \n",
       "590882                              0                         0   \n",
       "201944                              0                         0   \n",
       "...                               ...                       ...   \n",
       "688636                              1                         0   \n",
       "669485                              0                         0   \n",
       "602512                              0                         0   \n",
       "151409                              0                         0   \n",
       "747594                              1                         0   \n",
       "\n",
       "             land_surface_condition_t  foundation_type_h  foundation_type_i  \\\n",
       "building_id                                                                   \n",
       "802906                              1                  0                  0   \n",
       "28830                               0                  0                  0   \n",
       "94947                               1                  0                  0   \n",
       "590882                              1                  0                  0   \n",
       "201944                              1                  0                  0   \n",
       "...                               ...                ...                ...   \n",
       "688636                              0                  0                  0   \n",
       "669485                              1                  0                  0   \n",
       "602512                              1                  0                  0   \n",
       "151409                              1                  0                  0   \n",
       "747594                              0                  0                  0   \n",
       "\n",
       "             foundation_type_r  \n",
       "building_id                     \n",
       "802906                       1  \n",
       "28830                        1  \n",
       "94947                        1  \n",
       "590882                       1  \n",
       "201944                       1  \n",
       "...                        ...  \n",
       "688636                       1  \n",
       "669485                       1  \n",
       "602512                       1  \n",
       "151409                       1  \n",
       "747594                       1  \n",
       "\n",
       "[260601 rows x 6 columns]"
      ]
     },
     "execution_count": 24,
     "metadata": {},
     "output_type": "execute_result"
    }
   ],
   "source": [
    "X[([\"land_surface_condition_n\",\"land_surface_condition_o\",\"land_surface_condition_t\",\"foundation_type_h\",\"foundation_type_i\",\"foundation_type_r\"])]"
   ]
  },
  {
   "cell_type": "markdown",
   "metadata": {},
   "source": [
    "## Gauss ##"
   ]
  },
  {
   "cell_type": "code",
   "execution_count": 5,
   "metadata": {},
   "outputs": [],
   "source": [
    "X_train, X_valid, y_train, y_valid = train_test_split(X, y , test_size=0.2, random_state=40)\n"
   ]
  },
  {
   "cell_type": "code",
   "execution_count": 6,
   "metadata": {},
   "outputs": [],
   "source": [
    "continuous_cols = np.array(['geo_level_1_id', 'geo_level_2_id', 'geo_level_3_id',\n",
    "       'count_floors_pre_eq', 'age', 'area_percentage', 'height_percentage', 'count_families'])\n",
    "\n",
    "binary_cols = X_train[X_train.columns.difference(continuous_cols)].columns.to_numpy()"
   ]
  },
  {
   "cell_type": "markdown",
   "metadata": {},
   "source": [
    "Code theo công thức"
   ]
  },
  {
   "cell_type": "code",
   "execution_count": 7,
   "metadata": {},
   "outputs": [],
   "source": [
    "class GaussianNBClassifier(object):\n",
    "    def __init__(self):\n",
    "        pass\n",
    "\n",
    "    def fit(self, X, y):\n",
    "        separated = [[x for x, t in zip(X, y) if t == c] for c in np.unique(y)]\n",
    "        self.model = np.array([np.c_[np.mean(i, axis=0), np.std(i, axis=0)] for i in separated])\n",
    "        return self\n",
    "\n",
    "    def _prob(self, x, mean, std):\n",
    "        exponent = np.exp(- ((x - mean)**2 / (2 * std**2)))\n",
    "        return np.log(exponent / (np.sqrt(2 * np.pi) * std))\n",
    "\n",
    "    def predict_log_proba(self, X):\n",
    "        return [[sum(self._prob(i, *s) for s, i in zip(summaries, x))\n",
    "                for summaries in self.model] for x in X]\n",
    "\n",
    "    def predict(self, X):\n",
    "        return np.argmax(self.predict_log_proba(X), axis=1)\n",
    "\n",
    "    def score(self, X, y):\n",
    "        return sum(self.predict(X) == y) / len(y)"
   ]
  },
  {
   "cell_type": "markdown",
   "metadata": {},
   "source": [
    "Code tự tạo"
   ]
  },
  {
   "cell_type": "code",
   "execution_count": 8,
   "metadata": {},
   "outputs": [
    {
     "name": "stdout",
     "output_type": "stream",
     "text": [
      "0.38990042401335356\n",
      "[[ 2337   708  1937]\n",
      " [ 5382  4895 19368]\n",
      " [ 2468  1936 13090]]\n"
     ]
    }
   ],
   "source": [
    "gnb = GaussianNBClassifier()\n",
    "gnb.fit(X_train.to_numpy()[:,:7], y_train[\"damage_grade\"])\n",
    "#print(gnb.predict_(X_valid[:3]))\n",
    "y_pred_GNB = gnb.predict(X_valid.to_numpy()[:,:7])\n",
    "\n",
    "acc_GNB = accuracy_score(y_valid, y_pred_GNB)\n",
    "print(acc_GNB)\n",
    "print(confusion_matrix(y_valid, y_pred_GNB))"
   ]
  },
  {
   "cell_type": "markdown",
   "metadata": {},
   "source": [
    "Thư viện sklearn"
   ]
  },
  {
   "cell_type": "code",
   "execution_count": 9,
   "metadata": {},
   "outputs": [
    {
     "name": "stdout",
     "output_type": "stream",
     "text": [
      "Accuracy Gauss Naive Baiyes : 0.5629592678574855\n",
      "              precision    recall  f1-score   support\n",
      "\n",
      "           0       0.29      0.14      0.18      4982\n",
      "           1       0.58      0.94      0.71     29645\n",
      "           2       0.55      0.05      0.10     17494\n",
      "\n",
      "    accuracy                           0.56     52121\n",
      "   macro avg       0.47      0.37      0.33     52121\n",
      "weighted avg       0.54      0.56      0.46     52121\n",
      "\n",
      "[[  675  4257    50]\n",
      " [ 1187 27745   713]\n",
      " [  505 16067   922]]\n"
     ]
    },
    {
     "name": "stderr",
     "output_type": "stream",
     "text": [
      "/opt/homebrew/anaconda3/lib/python3.11/site-packages/sklearn/utils/validation.py:1184: DataConversionWarning: A column-vector y was passed when a 1d array was expected. Please change the shape of y to (n_samples, ), for example using ravel().\n",
      "  y = column_or_1d(y, warn=True)\n"
     ]
    }
   ],
   "source": [
    "from sklearn.naive_bayes import GaussianNB\n",
    "gnb = GaussianNB()\n",
    "gnb.fit(X_train[continuous_cols], y_train)\n",
    "y_pred_GNB = gnb.predict(X_valid[continuous_cols])\n",
    "\n",
    "print(\"Accuracy Gauss Naive Baiyes :\", accuracy_score(y_valid, y_pred_GNB))\n",
    "print(classification_report(y_valid, y_pred_GNB))\n",
    "\n",
    "\n",
    "print(confusion_matrix(y_valid, y_pred_GNB))"
   ]
  },
  {
   "cell_type": "markdown",
   "metadata": {},
   "source": [
    "Xây dựng Bernoulli"
   ]
  },
  {
   "cell_type": "code",
   "execution_count": 10,
   "metadata": {},
   "outputs": [],
   "source": [
    "class BernoulliNB(object):\n",
    "    def __init__(self, alpha=1.0):\n",
    "        self.alpha = alpha\n",
    "\n",
    "    def fit(self, X, y):\n",
    "        count_sample = X.shape[0]\n",
    "        separated = [[x for x, t in zip(X, y) if t == c] for c in np.unique(y)]\n",
    "        self.class_log_prior_ = [np.log(len(i) / count_sample) for i in separated]\n",
    "        count = np.array([np.array(i).sum(axis=0) for i in separated]) + self.alpha\n",
    "        smoothing = 2 * self.alpha\n",
    "        n_doc = np.array([len(i) + smoothing for i in separated])\n",
    "        self.feature_prob_ = count / n_doc[np.newaxis].T\n",
    "        return self\n",
    "\n",
    "    def predict_log_proba(self, X):\n",
    "        return [(np.log(self.feature_prob_) * x + np.log(1 - self.feature_prob_) * np.abs(x - 1)\n",
    "                ).sum(axis=1) + self.class_log_prior_ for x in X]\n",
    "\n",
    "    def predict(self, X):\n",
    "        return np.argmax(self.predict_log_proba(X), axis=1)"
   ]
  },
  {
   "cell_type": "markdown",
   "metadata": {},
   "source": [
    "Code tự tạo"
   ]
  },
  {
   "cell_type": "code",
   "execution_count": 11,
   "metadata": {},
   "outputs": [
    {
     "name": "stderr",
     "output_type": "stream",
     "text": [
      "/var/folders/r5/97p5_1zs7w7gdlq9bjgm3wd80000gn/T/ipykernel_662/483067321.py:16: RuntimeWarning: invalid value encountered in log\n",
      "  return [(np.log(self.feature_prob_) * x + np.log(1 - self.feature_prob_) * np.abs(x - 1)\n"
     ]
    },
    {
     "name": "stdout",
     "output_type": "stream",
     "text": [
      "0.3356420636595614\n",
      "0.11265559489764906\n",
      "              precision    recall  f1-score   support\n",
      "\n",
      "           0       0.00      0.00      0.00      4982\n",
      "           1       0.00      0.00      0.00     29645\n",
      "           2       0.34      1.00      0.50     17494\n",
      "\n",
      "    accuracy                           0.34     52121\n",
      "   macro avg       0.11      0.33      0.17     52121\n",
      "weighted avg       0.11      0.34      0.17     52121\n",
      "\n",
      "[[    0     0  4982]\n",
      " [    0     0 29645]\n",
      " [    0     0 17494]]\n"
     ]
    },
    {
     "name": "stderr",
     "output_type": "stream",
     "text": [
      "/opt/homebrew/anaconda3/lib/python3.11/site-packages/sklearn/metrics/_classification.py:1469: UndefinedMetricWarning: Precision is ill-defined and being set to 0.0 in labels with no predicted samples. Use `zero_division` parameter to control this behavior.\n",
      "  _warn_prf(average, modifier, msg_start, len(result))\n",
      "/opt/homebrew/anaconda3/lib/python3.11/site-packages/sklearn/metrics/_classification.py:1469: UndefinedMetricWarning: Precision and F-score are ill-defined and being set to 0.0 in labels with no predicted samples. Use `zero_division` parameter to control this behavior.\n",
      "  _warn_prf(average, modifier, msg_start, len(result))\n",
      "/opt/homebrew/anaconda3/lib/python3.11/site-packages/sklearn/metrics/_classification.py:1469: UndefinedMetricWarning: Precision and F-score are ill-defined and being set to 0.0 in labels with no predicted samples. Use `zero_division` parameter to control this behavior.\n",
      "  _warn_prf(average, modifier, msg_start, len(result))\n",
      "/opt/homebrew/anaconda3/lib/python3.11/site-packages/sklearn/metrics/_classification.py:1469: UndefinedMetricWarning: Precision and F-score are ill-defined and being set to 0.0 in labels with no predicted samples. Use `zero_division` parameter to control this behavior.\n",
      "  _warn_prf(average, modifier, msg_start, len(result))\n"
     ]
    }
   ],
   "source": [
    "\n",
    "mnb = BernoulliNB()\n",
    "mnb.fit(X_train.to_numpy()[:,10:], y_train[\"damage_grade\"])\n",
    "y_pred_MNB = mnb.predict(X_valid.to_numpy()[:,10:])\n",
    "acc_MNB = accuracy_score(y_valid, y_pred_MNB)\n",
    "print(acc_MNB)\n",
    "print(precision_score(y_valid, y_pred_MNB, average=\"weighted\"))\n",
    "print(classification_report(y_valid, y_pred_MNB))\n",
    "\n",
    "print(confusion_matrix(y_valid, y_pred_MNB))"
   ]
  },
  {
   "cell_type": "markdown",
   "metadata": {},
   "source": [
    "Code thư viện"
   ]
  },
  {
   "cell_type": "code",
   "execution_count": 12,
   "metadata": {},
   "outputs": [
    {
     "name": "stdout",
     "output_type": "stream",
     "text": [
      "Accuracy Bernoulli Naive Baiyes : 0.49941482319986186\n"
     ]
    },
    {
     "name": "stderr",
     "output_type": "stream",
     "text": [
      "/opt/homebrew/anaconda3/lib/python3.11/site-packages/sklearn/utils/validation.py:1184: DataConversionWarning: A column-vector y was passed when a 1d array was expected. Please change the shape of y to (n_samples, ), for example using ravel().\n",
      "  y = column_or_1d(y, warn=True)\n"
     ]
    },
    {
     "name": "stdout",
     "output_type": "stream",
     "text": [
      "              precision    recall  f1-score   support\n",
      "\n",
      "           0       0.44      0.55      0.49      4982\n",
      "           1       0.62      0.41      0.50     29645\n",
      "           2       0.42      0.64      0.51     17494\n",
      "\n",
      "    accuracy                           0.50     52121\n",
      "   macro avg       0.49      0.53      0.50     52121\n",
      "weighted avg       0.54      0.50      0.50     52121\n",
      "\n",
      "[[ 2740  1331   911]\n",
      " [ 3198 12174 14273]\n",
      " [  359  6019 11116]]\n"
     ]
    }
   ],
   "source": [
    "from sklearn.naive_bayes import BernoulliNB\n",
    "bnb = BernoulliNB()\n",
    "bnb.fit(X_train[binary_cols],  y_train)\n",
    "y_pred_BNB= bnb.predict(X_valid[binary_cols])\n",
    "\n",
    "print(\"Accuracy Bernoulli Naive Baiyes :\", accuracy_score(y_valid, y_pred_BNB))\n",
    "print(classification_report(y_valid, y_pred_BNB))\n",
    "\n",
    "print(confusion_matrix(y_valid, y_pred_BNB))"
   ]
  },
  {
   "cell_type": "code",
   "execution_count": 13,
   "metadata": {},
   "outputs": [
    {
     "name": "stdout",
     "output_type": "stream",
     "text": [
      "Accuracy Mixed Naive Baiyes : 0.5625563592409969\n",
      "              precision    recall  f1-score   support\n",
      "\n",
      "           0       0.43      0.48      0.46      4982\n",
      "           1       0.62      0.68      0.65     29645\n",
      "           2       0.49      0.39      0.44     17494\n",
      "\n",
      "    accuracy                           0.56     52121\n",
      "   macro avg       0.51      0.52      0.51     52121\n",
      "weighted avg       0.56      0.56      0.56     52121\n",
      "\n",
      "[[ 2411  2204   367]\n",
      " [ 2795 20040  6810]\n",
      " [  385 10239  6870]]\n"
     ]
    }
   ],
   "source": [
    "probs = gnb.predict_proba(X_valid[continuous_cols])* bnb.predict_proba(X_valid[binary_cols])\n",
    "probs = np.divide(probs, np.sum(probs, axis=1)[:,np.newaxis])\n",
    "y_pred = np.argmax(probs, axis=1)\n",
    "print(\"Accuracy Mixed Naive Baiyes :\", accuracy_score(y_valid, y_pred))\n",
    "print(classification_report(y_valid, y_pred))\n",
    "print(confusion_matrix(y_valid, y_pred))\n"
   ]
  }
 ],
 "metadata": {
  "kernelspec": {
   "display_name": "base",
   "language": "python",
   "name": "python3"
  },
  "language_info": {
   "codemirror_mode": {
    "name": "ipython",
    "version": 3
   },
   "file_extension": ".py",
   "mimetype": "text/x-python",
   "name": "python",
   "nbconvert_exporter": "python",
   "pygments_lexer": "ipython3",
   "version": "3.11.5"
  }
 },
 "nbformat": 4,
 "nbformat_minor": 2
}
